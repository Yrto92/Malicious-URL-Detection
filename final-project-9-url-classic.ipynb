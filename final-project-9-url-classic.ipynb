{
 "cells": [
  {
   "cell_type": "code",
   "execution_count": 8,
   "id": "873cc2aa",
   "metadata": {},
   "outputs": [
    {
     "name": "stdout",
     "output_type": "stream",
     "text": [
      "Requirement already satisfied: tldextract in /Users/yaeerk/Documents/NAYA/python/python-env/lib/python3.6/site-packages (3.1.2)\n",
      "Requirement already satisfied: requests-file>=1.4 in /Users/yaeerk/Documents/NAYA/python/python-env/lib/python3.6/site-packages (from tldextract) (1.5.1)\n",
      "Requirement already satisfied: idna in /Users/yaeerk/Documents/NAYA/python/python-env/lib/python3.6/site-packages (from tldextract) (3.3)\n",
      "Requirement already satisfied: filelock>=3.0.8 in /Users/yaeerk/Documents/NAYA/python/python-env/lib/python3.6/site-packages (from tldextract) (3.4.1)\n",
      "Requirement already satisfied: requests>=2.1.0 in /Users/yaeerk/Documents/NAYA/python/python-env/lib/python3.6/site-packages (from tldextract) (2.27.1)\n",
      "Requirement already satisfied: certifi>=2017.4.17 in /Users/yaeerk/Documents/NAYA/python/python-env/lib/python3.6/site-packages (from requests>=2.1.0->tldextract) (2021.10.8)\n",
      "Requirement already satisfied: charset-normalizer~=2.0.0 in /Users/yaeerk/Documents/NAYA/python/python-env/lib/python3.6/site-packages (from requests>=2.1.0->tldextract) (2.0.12)\n",
      "Requirement already satisfied: urllib3<1.27,>=1.21.1 in /Users/yaeerk/Documents/NAYA/python/python-env/lib/python3.6/site-packages (from requests>=2.1.0->tldextract) (1.26.8)\n",
      "Requirement already satisfied: six in /Users/yaeerk/Documents/NAYA/python/python-env/lib/python3.6/site-packages (from requests-file>=1.4->tldextract) (1.15.0)\n"
     ]
    }
   ],
   "source": [
    "!pip install tldextract"
   ]
  },
  {
   "cell_type": "code",
   "execution_count": 10,
   "id": "f622bd2e",
   "metadata": {},
   "outputs": [
    {
     "name": "stdout",
     "output_type": "stream",
     "text": [
      "Requirement already satisfied: xgboost in /Users/yaeerk/Documents/NAYA/python/python-env/lib/python3.6/site-packages (1.5.2)\r\n",
      "Requirement already satisfied: scipy in /Users/yaeerk/Documents/NAYA/python/python-env/lib/python3.6/site-packages (from xgboost) (1.5.4)\r\n",
      "Requirement already satisfied: numpy in /Users/yaeerk/Documents/NAYA/python/python-env/lib/python3.6/site-packages (from xgboost) (1.19.5)\r\n"
     ]
    }
   ],
   "source": [
    "!pip install xgboost"
   ]
  },
  {
   "cell_type": "code",
   "execution_count": 7,
   "id": "56a3f1c3",
   "metadata": {},
   "outputs": [
    {
     "name": "stdout",
     "output_type": "stream",
     "text": [
      "Requirement already satisfied: imblearn in /Users/yaeerk/Documents/NAYA/python/python-env/lib/python3.6/site-packages (0.0)\n",
      "Requirement already satisfied: imbalanced-learn in /Users/yaeerk/Documents/NAYA/python/python-env/lib/python3.6/site-packages (from imblearn) (0.8.1)\n",
      "Requirement already satisfied: scipy>=0.19.1 in /Users/yaeerk/Documents/NAYA/python/python-env/lib/python3.6/site-packages (from imbalanced-learn->imblearn) (1.5.4)\n",
      "Requirement already satisfied: scikit-learn>=0.24 in /Users/yaeerk/Documents/NAYA/python/python-env/lib/python3.6/site-packages (from imbalanced-learn->imblearn) (0.24.2)\n",
      "Requirement already satisfied: joblib>=0.11 in /Users/yaeerk/Documents/NAYA/python/python-env/lib/python3.6/site-packages (from imbalanced-learn->imblearn) (1.0.1)\n",
      "Requirement already satisfied: numpy>=1.13.3 in /Users/yaeerk/Documents/NAYA/python/python-env/lib/python3.6/site-packages (from imbalanced-learn->imblearn) (1.19.5)\n",
      "Requirement already satisfied: threadpoolctl>=2.0.0 in /Users/yaeerk/Documents/NAYA/python/python-env/lib/python3.6/site-packages (from scikit-learn>=0.24->imbalanced-learn->imblearn) (3.1.0)\n"
     ]
    }
   ],
   "source": [
    "!pip install imblearn"
   ]
  },
  {
   "cell_type": "code",
   "execution_count": 14,
   "id": "32626b9b",
   "metadata": {},
   "outputs": [
    {
     "data": {
      "text/html": [
       "<div>\n",
       "<style scoped>\n",
       "    .dataframe tbody tr th:only-of-type {\n",
       "        vertical-align: middle;\n",
       "    }\n",
       "\n",
       "    .dataframe tbody tr th {\n",
       "        vertical-align: top;\n",
       "    }\n",
       "\n",
       "    .dataframe thead th {\n",
       "        text-align: right;\n",
       "    }\n",
       "</style>\n",
       "<table border=\"1\" class=\"dataframe\">\n",
       "  <thead>\n",
       "    <tr style=\"text-align: right;\">\n",
       "      <th></th>\n",
       "      <th>url</th>\n",
       "      <th>type</th>\n",
       "    </tr>\n",
       "  </thead>\n",
       "  <tbody>\n",
       "    <tr>\n",
       "      <th>0</th>\n",
       "      <td>br-icloud.com.br</td>\n",
       "      <td>phishing</td>\n",
       "    </tr>\n",
       "    <tr>\n",
       "      <th>1</th>\n",
       "      <td>mp3raid.com/music/krizz_kaliko.html</td>\n",
       "      <td>benign</td>\n",
       "    </tr>\n",
       "    <tr>\n",
       "      <th>2</th>\n",
       "      <td>bopsecrets.org/rexroth/cr/1.htm</td>\n",
       "      <td>benign</td>\n",
       "    </tr>\n",
       "    <tr>\n",
       "      <th>3</th>\n",
       "      <td>http://www.garage-pirenne.be/index.php?option=...</td>\n",
       "      <td>defacement</td>\n",
       "    </tr>\n",
       "    <tr>\n",
       "      <th>4</th>\n",
       "      <td>http://adventure-nicaragua.net/index.php?optio...</td>\n",
       "      <td>defacement</td>\n",
       "    </tr>\n",
       "  </tbody>\n",
       "</table>\n",
       "</div>"
      ],
      "text/plain": [
       "                                                 url        type\n",
       "0                                   br-icloud.com.br    phishing\n",
       "1                mp3raid.com/music/krizz_kaliko.html      benign\n",
       "2                    bopsecrets.org/rexroth/cr/1.htm      benign\n",
       "3  http://www.garage-pirenne.be/index.php?option=...  defacement\n",
       "4  http://adventure-nicaragua.net/index.php?optio...  defacement"
      ]
     },
     "execution_count": 14,
     "metadata": {},
     "output_type": "execute_result"
    }
   ],
   "source": [
    "df = pd.read_csv(filename)\n",
    "df.head()"
   ]
  },
  {
   "cell_type": "code",
   "execution_count": 12,
   "id": "a04d0dc7",
   "metadata": {},
   "outputs": [],
   "source": [
    "import pandas as pd\n",
    "import numpy as np\n",
    "import re\n",
    "import math\n",
    "import requests\n",
    "import tldextract\n",
    "from urllib.parse import urlparse\n",
    "from matplotlib import pyplot as plt\n",
    "import seaborn as sns\n",
    "\n",
    "from sklearn.metrics import plot_confusion_matrix, plot_roc_curve, accuracy_score,confusion_matrix, classification_report, log_loss, mean_squared_error, f1_score\n",
    "from sklearn.ensemble import RandomForestClassifier, AdaBoostClassifier, ExtraTreesClassifier, GradientBoostingClassifier\n",
    "from sklearn.linear_model import LogisticRegression, SGDClassifier\n",
    "from sklearn.neighbors import KNeighborsClassifier\n",
    "from sklearn.tree import DecisionTreeClassifier\n",
    "from sklearn.naive_bayes import GaussianNB\n",
    "from sklearn.model_selection import GridSearchCV, train_test_split\n",
    "\n",
    "from xgboost import XGBClassifier\n",
    "\n",
    "import imblearn\n",
    "from imblearn.over_sampling import SMOTE \n",
    "from imblearn.under_sampling import TomekLinks"
   ]
  },
  {
   "cell_type": "code",
   "execution_count": 15,
   "id": "7dceff3c",
   "metadata": {},
   "outputs": [],
   "source": [
    "filename = \"/Users/yaeerk/Documents/NAYA/FinalProject/malicious_phish.csv\""
   ]
  },
  {
   "cell_type": "code",
   "execution_count": 16,
   "id": "9e41ec75",
   "metadata": {},
   "outputs": [],
   "source": [
    "#attribute listed_in_top_domain numeric\n",
    "text = requests.get('http://www.iana.org/domains/root/db').text #Get main domains"
   ]
  },
  {
   "cell_type": "code",
   "execution_count": 6,
   "id": "4b2d3d9a",
   "metadata": {},
   "outputs": [],
   "source": [
    "#attribute contains https numeric\n",
    "def httpSecure(url):\n",
    "    htp = urlparse(url).scheme\n",
    "    match = str(htp)\n",
    "    if match=='https':\n",
    "        return 1\n",
    "    else:\n",
    "        return 0"
   ]
  },
  {
   "cell_type": "code",
   "execution_count": 8,
   "id": "686ed286",
   "metadata": {},
   "outputs": [],
   "source": [
    "def abnormal_url(url):\n",
    "    hostname = urlparse(url).hostname\n",
    "    hostname = str(hostname)\n",
    "    match = re.search(hostname, url)\n",
    "    if match:\n",
    "        return 1\n",
    "    else:\n",
    "        return 0"
   ]
  },
  {
   "cell_type": "code",
   "execution_count": null,
   "id": "6eb1caed",
   "metadata": {},
   "outputs": [],
   "source": [
    "#attribute num_digit numeric\n",
    "def digit_count(url):\n",
    "    digits = 0\n",
    "    for i in url:\n",
    "        if i.isnumeric():\n",
    "            digits = digits + 1\n",
    "    return digits"
   ]
  },
  {
   "cell_type": "code",
   "execution_count": null,
   "id": "4c126802",
   "metadata": {},
   "outputs": [],
   "source": [
    "#attribute num_letter numeric\n",
    "def letter_count(url):\n",
    "    letters = 0\n",
    "    for i in url:\n",
    "        if i.isalpha():\n",
    "            letters = letters + 1\n",
    "    return letters"
   ]
  },
  {
   "cell_type": "code",
   "execution_count": null,
   "id": "add9e78b",
   "metadata": {},
   "outputs": [],
   "source": [
    "#Is the url contains shortening service\n",
    "def Shortining_Service(url):\n",
    "    match = re.search('bit\\.ly|goo\\.gl|shorte\\.st|go2l\\.ink|x\\.co|ow\\.ly|t\\.co|tinyurl|tr\\.im|is\\.gd|cli\\.gs|'\n",
    "                      'yfrog\\.com|migre\\.me|ff\\.im|tiny\\.cc|url4\\.eu|twit\\.ac|su\\.pr|twurl\\.nl|snipurl\\.com|'\n",
    "                      'short\\.to|BudURL\\.com|ping\\.fm|post\\.ly|Just\\.as|bkite\\.com|snipr\\.com|fic\\.kr|loopt\\.us|'\n",
    "                      'doiop\\.com|short\\.ie|kl\\.am|wp\\.me|rubyurl\\.com|om\\.ly|to\\.ly|bit\\.do|t\\.co|lnkd\\.in|'\n",
    "                      'db\\.tt|qr\\.ae|adf\\.ly|goo\\.gl|bitly\\.com|cur\\.lv|tinyurl\\.com|ow\\.ly|bit\\.ly|ity\\.im|'\n",
    "                      'q\\.gs|is\\.gd|po\\.st|bc\\.vc|twitthis\\.com|u\\.to|j\\.mp|buzurl\\.com|cutt\\.us|u\\.bb|yourls\\.org|'\n",
    "                      'x\\.co|prettylinkpro\\.com|scrnch\\.me|filoops\\.info|vzturl\\.com|qr\\.net|1url\\.com|tweez\\.me|v\\.gd|'\n",
    "                      'tr\\.im|link\\.zip\\.net',\n",
    "                      url)\n",
    "    if match:\n",
    "        return 1\n",
    "    else:\n",
    "        return 0"
   ]
  },
  {
   "cell_type": "code",
   "execution_count": null,
   "id": "0f561c8a",
   "metadata": {},
   "outputs": [],
   "source": [
    "#Is the url have an ip address\n",
    "def having_ip_address(url):\n",
    "    match = re.search(\n",
    "        '(([01]?\\\\d\\\\d?|2[0-4]\\\\d|25[0-5])\\\\.([01]?\\\\d\\\\d?|2[0-4]\\\\d|25[0-5])\\\\.([01]?\\\\d\\\\d?|2[0-4]\\\\d|25[0-5])\\\\.'\n",
    "        '([01]?\\\\d\\\\d?|2[0-4]\\\\d|25[0-5])\\\\/)|'  # IPv4\n",
    "        '(([01]?\\\\d\\\\d?|2[0-4]\\\\d|25[0-5])\\\\.([01]?\\\\d\\\\d?|2[0-4]\\\\d|25[0-5])\\\\.([01]?\\\\d\\\\d?|2[0-4]\\\\d|25[0-5])\\\\.'\n",
    "        '([01]?\\\\d\\\\d?|2[0-4]\\\\d|25[0-5])\\\\/)|'  # IPv4 with port\n",
    "        '((0x[0-9a-fA-F]{1,2})\\\\.(0x[0-9a-fA-F]{1,2})\\\\.(0x[0-9a-fA-F]{1,2})\\\\.(0x[0-9a-fA-F]{1,2})\\\\/)' # IPv4 in hexadecimal\n",
    "        '(?:[a-fA-F0-9]{1,4}:){7}[a-fA-F0-9]{1,4}|'\n",
    "        '([0-9]+(?:\\.[0-9]+){3}:[0-9]+)|'\n",
    "        '((?:(?:\\d|[01]?\\d\\d|2[0-4]\\d|25[0-5])\\.){3}(?:25[0-5]|2[0-4]\\d|[01]?\\d\\d|\\d)(?:\\/\\d{1,2})?)', url)  # Ipv6\n",
    "    if match:\n",
    "        return 1\n",
    "    else:\n",
    "        return 0"
   ]
  },
  {
   "cell_type": "code",
   "execution_count": null,
   "id": "c1753988",
   "metadata": {},
   "outputs": [],
   "source": [
    "df = pd.read_csv(filename)\n",
    "df.head()"
   ]
  },
  {
   "cell_type": "code",
   "execution_count": 7,
   "id": "b7975e38",
   "metadata": {},
   "outputs": [],
   "source": [
    "df['https']                = df['url'].apply(lambda i: httpSecure(i))\n",
    "df['abnormal_url']         = df['url'].apply(lambda i: abnormal_url(i))\n",
    "df['letters']              = df['url'].apply(lambda i: letter_count(i))\n",
    "df['digits']               = df['url'].apply(lambda i: digit_count(i))\n",
    "df['Shortining_Service']   = df['url'].apply(lambda x: Shortining_Service(x))\n",
    "df['having_ip_address']    = df['url'].apply(lambda i: having_ip_address(i))\n",
    "df['url_length']           = [len(x) for x in df.url] #attribute url_length numeric\n",
    "df['num_tokens']           = [len(re.findall(r'\\w+', x)) for x in df.url] #attribute num_tokens numeric\n",
    "df['listed_in_top_domain'] = [1 if tldextract.extract(x).domain in text else 0 for x in df.url]  #attribute is main domain numeric\n",
    "df['label']                = [1 if i == \"benign\" else 0 for i in df.type] # Converting label to int\n",
    "\n",
    "#attribute num_symbol numeric\n",
    "symbol = ['&','/','\\\\',';','_','@','?','-','=','.','#','%','+','$','!','*',',','//']\n",
    "for i in symbol:\n",
    "    name = 'num_of_' + i \n",
    "    df[name] = [x.count(i) for x in df.url]"
   ]
  },
  {
   "cell_type": "code",
   "execution_count": 11,
   "id": "ecb0aecf",
   "metadata": {},
   "outputs": [
    {
     "data": {
      "text/plain": [
       "<AxesSubplot:>"
      ]
     },
     "execution_count": 11,
     "metadata": {},
     "output_type": "execute_result"
    },
    {
     "data": {
      "image/png": "[encoded data removed]",
      "text/plain": [
       "<Figure size 1080x1080 with 2 Axes>"
      ]
     },
     "metadata": {
      "needs_background": "light"
     },
     "output_type": "display_data"
    }
   ],
   "source": [
    "plt.figure(figsize = (15, 15))\n",
    "sns.heatmap(df.corr(), linewidths = 0.5)"
   ]
  },
  {
   "cell_type": "code",
   "execution_count": null,
   "id": "20a1f9eb",
   "metadata": {},
   "outputs": [],
   "source": [
    "df.label.value_counts()"
   ]
  },
  {
   "cell_type": "code",
   "execution_count": 13,
   "id": "638f1a0a",
   "metadata": {},
   "outputs": [],
   "source": [
    "X = df.drop(['url','label','type'],axis=1)\n",
    "y = df['label']"
   ]
  },
  {
   "cell_type": "code",
   "execution_count": 14,
   "id": "0959b4cf",
   "metadata": {},
   "outputs": [],
   "source": [
    "X_train, X_test, y_train, y_test = train_test_split(X, y, test_size = 0.2, random_state = 2)"
   ]
  },
  {
   "cell_type": "code",
   "execution_count": 15,
   "id": "fa47d659",
   "metadata": {},
   "outputs": [],
   "source": [
    "#oversampling\n",
    "sm = SMOTE(random_state = 2)"
   ]
  },
  {
   "cell_type": "code",
   "execution_count": null,
   "id": "e220e34a",
   "metadata": {},
   "outputs": [],
   "source": [
    "y_train.value_counts()"
   ]
  },
  {
   "cell_type": "code",
   "execution_count": 107,
   "id": "412b1c02",
   "metadata": {},
   "outputs": [
    {
     "name": "stdout",
     "output_type": "stream",
     "text": [
      "#############################################\n",
      "######-Model =>\u001b[07m <class 'sklearn.tree._classes.DecisionTreeClassifier'> \u001b[0m\n",
      "      rmse_train 0.17052699064100754\n",
      "      rmse_test 0.22689705792410975\n",
      "Test Accuracy :\u001b[32m \u001b[01m 94.85% \u001b[30m \u001b[0m\n",
      "\u001b[01m              Classification_report \u001b[0m\n",
      "              precision    recall  f1-score   support\n",
      "\n",
      "           0       0.92      0.93      0.93     44674\n",
      "           1       0.96      0.96      0.96     85565\n",
      "\n",
      "    accuracy                           0.95    130239\n",
      "   macro avg       0.94      0.94      0.94    130239\n",
      "weighted avg       0.95      0.95      0.95    130239\n",
      "\n",
      "\u001b[01m             Confusion_matrix \u001b[0m\n",
      "#############################################\n",
      "######-Model =>\u001b[07m <class 'sklearn.ensemble._forest.RandomForestClassifier'> \u001b[0m\n",
      "      rmse_train 0.24358111965293983\n",
      "      rmse_test 0.2471747778764348\n",
      "Test Accuracy :\u001b[32m \u001b[01m 93.89% \u001b[30m \u001b[0m\n",
      "\u001b[01m              Classification_report \u001b[0m\n",
      "              precision    recall  f1-score   support\n",
      "\n",
      "           0       0.98      0.84      0.90     44674\n",
      "           1       0.92      0.99      0.96     85565\n",
      "\n",
      "    accuracy                           0.94    130239\n",
      "   macro avg       0.95      0.92      0.93    130239\n",
      "weighted avg       0.94      0.94      0.94    130239\n",
      "\n",
      "\u001b[01m             Confusion_matrix \u001b[0m\n",
      "#############################################\n",
      "######-Model =>\u001b[07m <class 'sklearn.ensemble._weight_boosting.AdaBoostClassifier'> \u001b[0m\n",
      "      rmse_train 0.29449577237572294\n",
      "      rmse_test 0.2935512641590541\n",
      "Test Accuracy :\u001b[32m \u001b[01m 91.38% \u001b[30m \u001b[0m\n",
      "\u001b[01m              Classification_report \u001b[0m\n",
      "              precision    recall  f1-score   support\n",
      "\n",
      "           0       0.91      0.83      0.87     44674\n",
      "           1       0.91      0.96      0.94     85565\n",
      "\n",
      "    accuracy                           0.91    130239\n",
      "   macro avg       0.91      0.89      0.90    130239\n",
      "weighted avg       0.91      0.91      0.91    130239\n",
      "\n",
      "\u001b[01m             Confusion_matrix \u001b[0m\n",
      "#############################################\n",
      "######-Model =>\u001b[07m <class 'sklearn.ensemble._forest.ExtraTreesClassifier'> \u001b[0m\n",
      "      rmse_train 0.17052699064100754\n",
      "      rmse_test 0.21510179631114318\n",
      "Test Accuracy :\u001b[32m \u001b[01m 95.37% \u001b[30m \u001b[0m\n",
      "\u001b[01m              Classification_report \u001b[0m\n",
      "              precision    recall  f1-score   support\n",
      "\n",
      "           0       0.93      0.93      0.93     44674\n",
      "           1       0.96      0.97      0.96     85565\n",
      "\n",
      "    accuracy                           0.95    130239\n",
      "   macro avg       0.95      0.95      0.95    130239\n",
      "weighted avg       0.95      0.95      0.95    130239\n",
      "\n",
      "\u001b[01m             Confusion_matrix \u001b[0m\n",
      "#############################################\n",
      "######-Model =>\u001b[07m <class 'xgboost.sklearn.XGBClassifier'> \u001b[0m\n",
      "      rmse_train 0.22032226445245012\n",
      "      rmse_test 0.22336716237336526\n",
      "Test Accuracy :\u001b[32m \u001b[01m 95.01% \u001b[30m \u001b[0m\n",
      "\u001b[01m              Classification_report \u001b[0m\n",
      "              precision    recall  f1-score   support\n",
      "\n",
      "           0       0.94      0.91      0.93     44674\n",
      "           1       0.95      0.97      0.96     85565\n",
      "\n",
      "    accuracy                           0.95    130239\n",
      "   macro avg       0.95      0.94      0.94    130239\n",
      "weighted avg       0.95      0.95      0.95    130239\n",
      "\n",
      "\u001b[01m             Confusion_matrix \u001b[0m\n"
     ]
    }
   ],
   "source": [
    "models = [DecisionTreeClassifier, RandomForestClassifier, AdaBoostClassifier, ExtraTreesClassifier, XGBClassifier]\n",
    "scale_pos_weight = y.value_counts()[1] / y.value_counts()[0]\n",
    "accuracy_test, feature_importance, tab = [], [], ' '\n",
    "\n",
    "for m in models:\n",
    "    print('#############################################')\n",
    "    print('######-Model =>\\033[07m {} \\033[0m'.format(m))\n",
    "    if (m == RandomForestClassifier):\n",
    "            model_ = RandomForestClassifier(max_depth = 80, max_features = 2, min_samples_leaf = 3, min_samples_split = 8)\n",
    "            model_.fit(X_train, y_train)\n",
    "    else:\n",
    "        model_ = m()\n",
    "        model_.fit(X_train, y_train)\n",
    "\n",
    "    pred = model_.predict(X_test)\n",
    "    acc = accuracy_score(pred, y_test)\n",
    "    accuracy_test.append(acc)\n",
    "    feature_im = model_.feature_importances_\n",
    "    feature_importance.append(feature_im)\n",
    "    rmse_train, rmse_test = math.sqrt(mean_squared_error(y_train, model_.predict(X_train))), math.sqrt(mean_squared_error(y_test, model_.predict(X_test))) \n",
    "    print(tab * 6 + \"rmse_train\", rmse_train)\n",
    "    print(tab * 6 + \"rmse_test\", rmse_test)\n",
    "    print('Test Accuracy :\\033[32m \\033[01m {:.2f}% \\033[30m \\033[0m'.format(acc*100))\n",
    "    print('\\033[01m              Classification_report \\033[0m')\n",
    "    print(classification_report(y_test, pred))\n",
    "    print('\\033[01m             Confusion_matrix \\033[0m')\n",
    "    cf_matrix = confusion_matrix(y_test, pred)\n",
    "   "
   ]
  },
  {
   "cell_type": "code",
   "execution_count": 51,
   "id": "3c7148c7",
   "metadata": {},
   "outputs": [],
   "source": [
    "output = pd.DataFrame({\"Model\":['Decision Tree Classifier','Random Forest Classifier',\n",
    "                                'AdaBoost Classifier','Extra Trees Classifier','XGBClassifier'], \"Accuracy\":accuracy_test})"
   ]
  },
  {
   "cell_type": "code",
   "execution_count": 44,
   "id": "231676f0",
   "metadata": {},
   "outputs": [
    {
     "data": {
      "image/png": "[encoded data removed]",
      "text/plain": [
       "<Figure size 504x468 with 1 Axes>"
      ]
     },
     "metadata": {
      "needs_background": "light"
     },
     "output_type": "display_data"
    }
   ],
   "source": [
    "plt.figure(figsize = (7, 6.5))\n",
    "plots = sns.barplot(x = 'Model', y = 'Accuracy', data = output)\n",
    "for bar in plots.patches:\n",
    "    plots.annotate(format(bar.get_height(), '.2f'),\n",
    "                   (bar.get_x() + bar.get_width() / 2,\n",
    "                    bar.get_height()), ha = 'center', va = 'center',\n",
    "                   size = 15, xytext = (0, 8),\n",
    "                   textcoords = 'offset points')\n",
    "\n",
    "plt.xlabel(\"Models\", size = 14)\n",
    "plt.xticks(rotation = 20);\n",
    "plt.ylabel(\"Accuracy\", size = 14)\n",
    "plt.show()"
   ]
  },
  {
   "cell_type": "code",
   "execution_count": 143,
   "id": "4c1e2709",
   "metadata": {},
   "outputs": [
    {
     "data": {
      "text/html": [
       "<div>\n",
       "<style scoped>\n",
       "    .dataframe tbody tr th:only-of-type {\n",
       "        vertical-align: middle;\n",
       "    }\n",
       "\n",
       "    .dataframe tbody tr th {\n",
       "        vertical-align: top;\n",
       "    }\n",
       "\n",
       "    .dataframe thead th {\n",
       "        text-align: right;\n",
       "    }\n",
       "</style>\n",
       "<table border=\"1\" class=\"dataframe\">\n",
       "  <thead>\n",
       "    <tr style=\"text-align: right;\">\n",
       "      <th></th>\n",
       "      <th>Decision Tree Classifier</th>\n",
       "      <th>Random Forest Classifier</th>\n",
       "      <th>AdaBoost Classifier</th>\n",
       "      <th>Extra Trees Classifier</th>\n",
       "      <th>XGBClassifier</th>\n",
       "      <th>mean</th>\n",
       "      <th>Feature</th>\n",
       "    </tr>\n",
       "  </thead>\n",
       "  <tbody>\n",
       "    <tr>\n",
       "      <th>22</th>\n",
       "      <td>0.435515</td>\n",
       "      <td>0.212931</td>\n",
       "      <td>0.12</td>\n",
       "      <td>0.326353</td>\n",
       "      <td>0.746353</td>\n",
       "      <td>0.368231</td>\n",
       "      <td>abnormal_url</td>\n",
       "    </tr>\n",
       "    <tr>\n",
       "      <th>4</th>\n",
       "      <td>0.174715</td>\n",
       "      <td>0.140915</td>\n",
       "      <td>0.12</td>\n",
       "      <td>0.147170</td>\n",
       "      <td>0.038840</td>\n",
       "      <td>0.124328</td>\n",
       "      <td>num_of_/</td>\n",
       "    </tr>\n",
       "    <tr>\n",
       "      <th>12</th>\n",
       "      <td>0.078742</td>\n",
       "      <td>0.114185</td>\n",
       "      <td>0.14</td>\n",
       "      <td>0.086584</td>\n",
       "      <td>0.031413</td>\n",
       "      <td>0.090185</td>\n",
       "      <td>num_of_.</td>\n",
       "    </tr>\n",
       "    <tr>\n",
       "      <th>10</th>\n",
       "      <td>0.075266</td>\n",
       "      <td>0.036547</td>\n",
       "      <td>0.12</td>\n",
       "      <td>0.051064</td>\n",
       "      <td>0.026993</td>\n",
       "      <td>0.061974</td>\n",
       "      <td>num_of_-</td>\n",
       "    </tr>\n",
       "    <tr>\n",
       "      <th>1</th>\n",
       "      <td>0.088410</td>\n",
       "      <td>0.047603</td>\n",
       "      <td>0.06</td>\n",
       "      <td>0.053504</td>\n",
       "      <td>0.026037</td>\n",
       "      <td>0.055111</td>\n",
       "      <td>url_length</td>\n",
       "    </tr>\n",
       "  </tbody>\n",
       "</table>\n",
       "</div>"
      ],
      "text/plain": [
       "    Decision Tree Classifier  Random Forest Classifier  AdaBoost Classifier  \\\n",
       "22                  0.435515                  0.212931                 0.12   \n",
       "4                   0.174715                  0.140915                 0.12   \n",
       "12                  0.078742                  0.114185                 0.14   \n",
       "10                  0.075266                  0.036547                 0.12   \n",
       "1                   0.088410                  0.047603                 0.06   \n",
       "\n",
       "    Extra Trees Classifier  XGBClassifier      mean       Feature  \n",
       "22                0.326353       0.746353  0.368231  abnormal_url  \n",
       "4                 0.147170       0.038840  0.124328      num_of_/  \n",
       "12                0.086584       0.031413  0.090185      num_of_.  \n",
       "10                0.051064       0.026993  0.061974      num_of_-  \n",
       "1                 0.053504       0.026037  0.055111    url_length  "
      ]
     },
     "execution_count": 143,
     "metadata": {},
     "output_type": "execute_result"
    }
   ],
   "source": [
    "dict1 = {}\n",
    "model_str = ['Decision Tree Classifier','Random Forest Classifier','AdaBoost Classifier','Extra Trees Classifier','XGBClassifier']\n",
    "for i, j in enumerate(model_str):\n",
    "    dict1[j] = feature_importances[i]\n",
    "    \n",
    "feature_dataframe = pd.DataFrame(dict1)\n",
    "feature_dataframe['mean'] = feature_dataframe.mean(axis = 1) # axis = 1 computes the mean row-wise\n",
    "feature_dataframe['Feature'] = X_test.columns\n",
    "feature_dataframe = feature_dataframe.sort_values(by = 'mean',ascending = False)\n",
    "feature_dataframe.head()"
   ]
  },
  {
   "cell_type": "code",
   "execution_count": 145,
   "id": "8026f5a2",
   "metadata": {},
   "outputs": [
    {
     "data": {
      "image/png": "[encoded data removed]",
      "text/plain": [
       "<Figure size 720x864 with 1 Axes>"
      ]
     },
     "metadata": {
      "needs_background": "light"
     },
     "output_type": "display_data"
    }
   ],
   "source": [
    "def plot_feature_importance():\n",
    "    tmp = pd.DataFrame({'Feature': X_test.columns, 'Feature importance': feature_dataframe['mean'].values})\n",
    "    plt.figure(figsize = (10, 12))\n",
    "    plt.title('Average Feature Importance',fontsize = 14)\n",
    "    s = sns.barplot(y = 'Feature',x = 'Feature importance', data = tmp, orient = 'h')\n",
    "    plt.show()\n",
    "plot_feature_importance()"
   ]
  }
 ],
 "metadata": {
  "kernelspec": {
   "display_name": "Python 3 (ipykernel)",
   "language": "python",
   "name": "python3"
  },
  "language_info": {
   "codemirror_mode": {
    "name": "ipython",
    "version": 3
   },
   "file_extension": ".py",
   "mimetype": "text/x-python",
   "name": "python",
   "nbconvert_exporter": "python",
   "pygments_lexer": "ipython3",
   "version": "3.10.6"
  }
 },
 "nbformat": 4,
 "nbformat_minor": 5
}
