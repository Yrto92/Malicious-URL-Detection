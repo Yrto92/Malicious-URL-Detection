{
 "cells": [
  {
   "cell_type": "code",
   "execution_count": 1,
   "id": "2f4038a0",
   "metadata": {},
   "outputs": [
    {
     "ename": "ModuleNotFoundError",
     "evalue": "No module named 'keras'",
     "output_type": "error",
     "traceback": [
      "\u001b[0;31m---------------------------------------------------------------------------\u001b[0m",
      "\u001b[0;31mModuleNotFoundError\u001b[0m                       Traceback (most recent call last)",
      "Input \u001b[0;32mIn [1]\u001b[0m, in \u001b[0;36m<cell line: 10>\u001b[0;34m()\u001b[0m\n\u001b[1;32m      8\u001b[0m \u001b[38;5;28;01mimport\u001b[39;00m \u001b[38;5;21;01mmath\u001b[39;00m\n\u001b[1;32m      9\u001b[0m \u001b[38;5;28;01mimport\u001b[39;00m \u001b[38;5;21;01mos\u001b[39;00m\n\u001b[0;32m---> 10\u001b[0m \u001b[38;5;28;01mfrom\u001b[39;00m \u001b[38;5;21;01mkeras\u001b[39;00m\u001b[38;5;21;01m.\u001b[39;00m\u001b[38;5;21;01mmodels\u001b[39;00m \u001b[38;5;28;01mimport\u001b[39;00m Model\n\u001b[1;32m     12\u001b[0m \u001b[38;5;28;01mfrom\u001b[39;00m \u001b[38;5;21;01mnumpy\u001b[39;00m \u001b[38;5;28;01mimport\u001b[39;00m mean, std\n\u001b[1;32m     13\u001b[0m \u001b[38;5;28;01mfrom\u001b[39;00m \u001b[38;5;21;01mscipy\u001b[39;00m \u001b[38;5;28;01mimport\u001b[39;00m stats\n",
      "\u001b[0;31mModuleNotFoundError\u001b[0m: No module named 'keras'"
     ]
    }
   ],
   "source": [
    "import pandas as pd\n",
    "import numpy as np\n",
    "import matplotlib.pyplot as plt\n",
    "from matplotlib import pyplot\n",
    "import seaborn as sns\n",
    "import scipy as sp\n",
    "#import random\n",
    "import math\n",
    "import os\n",
    "from keras.models import Model\n",
    "\n",
    "from numpy import mean, std\n",
    "from scipy import stats\n",
    "import scipy as sp\n",
    "\n",
    "from sklearn.linear_model import LogisticRegression\n",
    "from sklearn.model_selection import train_test_split, GridSearchCV,  cross_val_score, RepeatedStratifiedKFold, cross_validate\n",
    "#from sklearn.neighbors import KNeighborsClassifier\n",
    "from sklearn.ensemble import RandomForestClassifier, VotingClassifier, BaggingClassifier, AdaBoostClassifier, GradientBoostingClassifier\n",
    "from sklearn.tree import DecisionTreeClassifier\n",
    "from sklearn.metrics import get_scorer, make_scorer, confusion_matrix, classification_report, recall_score, precision_score, accuracy_score, fbeta_score, roc_curve, roc_auc_score, f1_score, confusion_matrix, mean_squared_error, log_loss\n",
    "from sklearn import svm, datasets\n",
    "from sklearn.svm import SVC\n",
    "#from sklearn.naive_bayes import BernoulliNB\n",
    "#from sklearn.datasets import make_classification\n",
    "from sklearn.exceptions import ConvergenceWarning\n",
    "from sklearn.impute import SimpleImputer\n",
    "#from sklearn.preprocessing import OneHotEncoder, StandardScaler, LabelEncoder, RobustScaler, MinMaxScaler\n",
    "from sklearn.compose import ColumnTransformer\n",
    "from sklearn.pipeline import Pipeline\n",
    "from sklearn.dummy import DummyClassifier\n",
    "from sklearn import svm, datasets\n",
    "from sklearn.exceptions import ConvergenceWarning\n",
    "from sklearn.preprocessing import StandardScaler\n",
    "\n",
    "#from scipy.stats import sem\n",
    "from sklearn.model_selection import RepeatedKFold\n",
    "from sklearn.model_selection import cross_val_score\n",
    "\n",
    "from numpy import load\n",
    "from sklearn.decomposition import PCA\n",
    "\n",
    "from numpy import asarray\n",
    "from numpy import save\n",
    "\n",
    "from tqdm import tqdm\n",
    "import PIL\n",
    "from PIL import Image, ImageOps"
   ]
  },
  {
   "cell_type": "code",
   "execution_count": 2,
   "id": "21eb346e",
   "metadata": {},
   "outputs": [
    {
     "name": "stdout",
     "output_type": "stream",
     "text": [
      "Collecting keras\n",
      "  Using cached keras-2.9.0-py2.py3-none-any.whl (1.6 MB)\n",
      "Installing collected packages: keras\n",
      "Successfully installed keras-2.9.0\n"
     ]
    }
   ],
   "source": [
    "!pip install keras"
   ]
  },
  {
   "cell_type": "code",
   "execution_count": 2,
   "id": "e6d7342e",
   "metadata": {},
   "outputs": [],
   "source": [
    "version = 12\n",
    "folder = f\"/Users/julia/Downloads/QRcode12 size 65X65.\"\n",
    "\n",
    "dataset_max_size = 30000\n",
    "\n",
    "sub_folders = (\"benign\", \"malware\", \"defacement\", \"phishing\")\n",
    "cnt_folders = (dataset_max_size * 3, dataset_max_size, dataset_max_size, dataset_max_size)               \n",
    "cls_folders = (0, 1, 1, 1)\n",
    "new_labels = (\"benign\", \"malicious\")\n",
    "\n",
    "save_path = \"/tmp/qrcode/\"\n",
    "filename = f\"{dataset_max_size}-{version}\"\n",
    "\n",
    "if(version == 4):\n",
    "    image_size = (33, 33)\n",
    "    alpha = 114\n",
    "elif(version == 5):\n",
    "    image_size = (37, 37)\n",
    "    alpha = 154\n",
    "elif(version == 6):\n",
    "    image_size = (41, 41)\n",
    "    alpha = 195\n",
    "elif(version == 12):\n",
    "    image_size = (65, 65)\n",
    "    alpha = 535\n",
    "else:\n",
    "    image_size = (36, 36)\n",
    "    alpha = 130\n",
    "    \n",
    "#\n",
    "random_state = 43021\n",
    "train_sizes = [0.8]\n",
    "tab = \"  \"\n",
    "jobs = 8\n",
    "n_splits = 5\n",
    "ncomponentss = [50, 100, 200, 400, alpha, -1]\n",
    "scores = ['accuracy'] #, 'f1']\n",
    "\n",
    "gscv_reduction = 4000"
   ]
  },
  {
   "cell_type": "code",
   "execution_count": 3,
   "id": "15f87be8",
   "metadata": {},
   "outputs": [
    {
     "name": "stdout",
     "output_type": "stream",
     "text": [
      "dataset was loaded\n"
     ]
    }
   ],
   "source": [
    "#https://www.kaggle.com/datasets/samahsadiq/benign-and-malicious-qr-codes\n",
    "\n",
    "#load the dataset\n",
    "\n",
    "try:    \n",
    "    \n",
    "    #read the images\n",
    "    with open(save_path + 'binary-qr-image-' + str(dataset_max_size), 'rb') as f:\n",
    "        X = np.load(f)\n",
    "\n",
    "    #read the labels\n",
    "    with open(save_path + 'binary-qr-label-' + str(dataset_max_size), 'rb') as f:\n",
    "        y = np.load(f)\n",
    "\n",
    "    print(f\"dataset was loaded\")\n",
    "\n",
    "except:\n",
    "        \n",
    "    X, y = [], []\n",
    "        \n",
    "    for p, sub_folder in enumerate(sub_folders):\n",
    "                  \n",
    "        X_subfolder, y_subfolder = [], []\n",
    "            \n",
    "        path = folder + \"/\" + sub_folder\n",
    "        image_filenames = [filename for filename in os.listdir(path) if(\"png\" in filename)]\n",
    "\n",
    "        if(len(image_filenames) > cnt_folders[p]):        \n",
    "            image_filenames = image_filenames[:cnt_folders[p]]\n",
    "\n",
    "        for image_filename in tqdm(image_filenames, desc = \"Loading \" +  sub_folder, ncols = 110):\n",
    "\n",
    "            try:\n",
    "                m = Image.open(path + \"/\" + image_filename)\n",
    "\n",
    "                #resize to predefined size\n",
    "                m = m.resize(image_size, resample = PIL.Image.BICUBIC)\n",
    "\n",
    "                #convert to gray scale\n",
    "                m = ImageOps.grayscale(m)\n",
    "\n",
    "                #convert to numpy array and do not rescale, save it in byte (smaller size on disk)\n",
    "                n = np.array(m.getdata()).reshape(image_size[0], image_size[1], 1) / 255.0\n",
    "\n",
    "                #append to datasets\n",
    "                X_subfolder.append(n)                    \n",
    "                y_subfolder.append(cls_folders[p])\n",
    "\n",
    "            except:\n",
    "                print(f\"count not load: {path + '/' + image_filename}\")\n",
    "\n",
    "        #rescale\n",
    "        X.extend(X_subfolder)\n",
    "        y.extend(y_subfolder)\n",
    "\n",
    "    X = np.array(X)\n",
    "    y = np.array(y)\n",
    "              \n",
    "    try:\n",
    "        #save the images\n",
    "        with open(save_path + 'binary-qr-image-' + str(dataset_max_size), 'wb') as f:\n",
    "            np.save(f, X)\n",
    "\n",
    "        #save the labels\n",
    "        with open(save_path + 'binary-qr-label-' + str(dataset_max_size), 'wb') as f:\n",
    "            np.save(f, y)\n",
    "\n",
    "    except:\n",
    "        print(\"unable to save images & labels\")"
   ]
  },
  {
   "cell_type": "code",
   "execution_count": 4,
   "id": "c455c3c9",
   "metadata": {},
   "outputs": [],
   "source": [
    "#ravel\n",
    "X_global = X.reshape(dataset_max_size * 6, -1)\n",
    "y_global = y.reshape(dataset_max_size * 6)\n",
    "\n",
    "#standard scaler\n",
    "sc = StandardScaler()\n",
    "sc.fit_transform(X_global)\n",
    "    \n",
    "#select 'gscv_reduction' records from the grid searc & cross validation\n",
    "sel = np.random.choice(X_global .shape[0], size = gscv_reduction, replace = False)\n",
    "X_reduced = X_global[sel]\n",
    "y_reduced = y_global[sel]"
   ]
  },
  {
   "cell_type": "code",
   "execution_count": 5,
   "id": "942a750e",
   "metadata": {},
   "outputs": [],
   "source": [
    "#splits train/test and performs pca\n",
    "def pca_train_test_split(X, y, train_size, random_state, ncomponents):\n",
    "   \n",
    "    X_train_, X_test_, y_train, y_test = train_test_split(X, y, test_size = 1 - train_size, random_state = random_state)\n",
    "                                           \n",
    "    if(ncomponents < 0):\n",
    "        X_train = X_train_\n",
    "        X_test = X_test_\n",
    "\n",
    "    else:\n",
    "        pca = PCA(n_components = ncomponents)\n",
    "        pca.fit(X_train_)\n",
    "\n",
    "        X_train = pca.transform(X_train_)\n",
    "        X_test = pca.transform(X_test_)\n",
    "        \n",
    "    return (X_train, X_test, y_train, y_test)"
   ]
  },
  {
   "cell_type": "code",
   "execution_count": 6,
   "id": "eb147c1e",
   "metadata": {},
   "outputs": [],
   "source": [
    "#test models with final parameters\n",
    "def test_model(caption, ncomponents, train_size, random_state, model):\n",
    "    \n",
    "    X_train, X_test, y_train, y_test = pca_train_test_split(X_global, y_global, train_size, random_state, ncomponents)\n",
    "\n",
    "    model = model.fit(X_train, y_train)\n",
    "    y_test_pred, y_train_pred = model.predict(X_test), model.predict(X_train)\n",
    "\n",
    "    # report the scores\n",
    "    score_train, score_test = model.score(X_train, y_train), model.score(X_test, y_test)\n",
    "    f1_test, f1_train = f1_score(y_test, y_test_pred, average = 'macro'), f1_score(y_train, y_train_pred, average = 'macro')\n",
    "    log_loss_train, log_loss_test = log_loss(y_train, y_train_pred), log_loss(y_test, y_test_pred)   \n",
    "    rmse_train, rmse_test = math.sqrt(mean_squared_error(y_train, y_train_pred)), math.sqrt(mean_squared_error(y_test, y_test_pred)) #, multioutput='raw_values' \n",
    "\n",
    "\n",
    "    print(tab * 6 + \"train accuracy score\", score_train)\n",
    "    print(tab * 6 + \"test accuracy score\", score_test)  \n",
    "\n",
    "#   print(tab * 6 + \"train f1 score\", f1_train)\n",
    "#   print(tab * 6 + \"test f1 score\", f1_test) \n",
    "        \n",
    "#   print(tab * 6 + \"log loss train\", log_loss_train)\n",
    "#   print(tab * 6 + \"log loss test\", log_loss_test)\n",
    "    \n",
    "    print(tab * 6 + \"rmse_train\", rmse_train)\n",
    "    print(tab * 6 + \"rmse_test\", rmse_test)\n",
    "          \n",
    "    plt.bar([\"train\", \"test\"], [score_train, score_test], color = ['red', 'blue'], width = 0.4)\n",
    "    plt.ylabel(\"Accuracy\")\n",
    "    plt.title(\"accuracy train/test comparison\")\n",
    "    plt.savefig(save_path + caption + \"-best-train-test-accuracy.png\")\n",
    "    plt.show()\n",
    "          \n",
    "    plt.bar([\"train\", \"test\"], [log_loss_train, log_loss_test], color = ['pink', 'turquoise'], width = 0.4)\n",
    "    plt.ylabel(\"log loss\")\n",
    "    plt.title(\"loss train/test comparison\")\n",
    "    plt.savefig(save_path + caption + \"-best-train-test-loss.png\")\n",
    "    plt.show()"
   ]
  },
  {
   "cell_type": "code",
   "execution_count": 7,
   "id": "b8db766d",
   "metadata": {},
   "outputs": [],
   "source": [
    "#create dataframe with specific columns\n",
    "def result_dataframe():\n",
    "    return pd.DataFrame(columns = [\"score\",\"train score\", \"test score\", \n",
    "                                  \"test rmse\", \"train rmse\", \"test log_loss\",\n",
    "                                  \"train log_loss\",\"PCA n-components\", \"test size\", \n",
    "                                  \"random state\",\"estimator params\", \"estimator\"])\n",
    "\n",
    "#adds a record to the dataframe\n",
    "def results_add(results, estimator, grid_best_score_, score_train, score_test, rmse_test, rmse_train, log_loss_test, log_loss_train, ncomponents, train_size, random_state, grid_best_params_):\n",
    "    \n",
    "    n = len(results)\n",
    "    results.at[n, 'score']            = grid_best_score_\n",
    "    results.at[n, 'train score']      = score_train\n",
    "    results.at[n, 'test score']       = score_test\n",
    "\n",
    "    results.at[n, 'test rmse']        = rmse_test\n",
    "    results.at[n, 'train rmse']       = rmse_train\n",
    "\n",
    "    results.at[n, 'test log_loss']    = log_loss_test\n",
    "    results.at[n, 'train log_loss']   = log_loss_train\n",
    "\n",
    "    results.at[n, 'PCA n-components'] = ncomponents\n",
    "    results.at[n, 'test size']        = 1 - train_size\n",
    "    results.at[n, 'random state']     = random_state\n",
    "    results.at[n, 'estimator params'] = grid_best_params_\n",
    "    results.at[n, 'estimator']        = estimator\n",
    "    \n",
    "    # report the best configuration\n",
    "    print(tab * 6 + \"Best score: %f using %s\" % (grid_best_score_, grid_best_params_))\n",
    "\n",
    "    print(tab * 6 + \"train score\", score_train)\n",
    "    print(tab * 6 + \"test  score\", score_test)\n",
    "\n",
    "    print(tab * 6 + \"log loss train\", log_loss_train)\n",
    "    print(tab * 6 + \"log loss test\", log_loss_test)\n",
    "\n",
    "    print(tab * 6 + \"rmse_train\", rmse_train)\n",
    "    print(tab * 6 + \"rmse_test\", rmse_test)\n"
   ]
  },
  {
   "cell_type": "code",
   "execution_count": 8,
   "id": "0caf5a94",
   "metadata": {},
   "outputs": [
    {
     "name": "stdout",
     "output_type": "stream",
     "text": [
      "  train size: 0.8\n",
      "    PCA ncomponents: 50\n",
      "        <class 'sklearn.linear_model._logistic.LogisticRegression'>\n",
      "          score: accuracy\n",
      "            Best score: 0.769141 using {'clf__C': 1, 'clf__max_iter': 600, 'clf__solver': 'liblinear'}\n",
      "            train score 0.8046875\n",
      "            test  score 0.7375\n",
      "            log loss train 6.745920981293182\n",
      "            log loss test 9.066563735730401\n",
      "            rmse_train 0.4419417382415922\n",
      "            rmse_test 0.51234753829798\n",
      "    PCA ncomponents: 100\n",
      "        <class 'sklearn.linear_model._logistic.LogisticRegression'>\n",
      "          score: accuracy\n",
      "            Best score: 0.758008 using {'clf__C': 1, 'clf__max_iter': 600, 'clf__solver': 'liblinear'}\n",
      "            train score 0.86875\n",
      "            test  score 0.775\n",
      "            log loss train 4.5332568804455065\n",
      "            log loss test 7.771334633501556\n",
      "            rmse_train 0.362284418654736\n",
      "            rmse_test 0.4743416490252569\n",
      "    PCA ncomponents: 200\n",
      "        <class 'sklearn.linear_model._logistic.LogisticRegression'>\n",
      "          score: accuracy\n",
      "            Best score: 0.735352 using {'clf__C': 0.001, 'clf__max_iter': 600, 'clf__solver': 'liblinear'}\n",
      "            train score 0.809375\n",
      "            test  score 0.7375\n",
      "            log loss train 6.5840192175710515\n",
      "            log loss test 9.066553740762522\n",
      "            rmse_train 0.4366062299143245\n",
      "            rmse_test 0.51234753829798\n",
      "    PCA ncomponents: 400\n",
      "        <class 'sklearn.linear_model._logistic.LogisticRegression'>\n",
      "          score: accuracy\n"
     ]
    },
    {
     "name": "stderr",
     "output_type": "stream",
     "text": [
      "/Users/yaeerk/Documents/NAYA/python/python-env/lib/python3.6/site-packages/sklearn/linear_model/_sag.py:329: ConvergenceWarning: The max_iter was reached which means the coef_ did not converge\n",
      "  \"the coef_ did not converge\", ConvergenceWarning)\n"
     ]
    },
    {
     "name": "stdout",
     "output_type": "stream",
     "text": [
      "            Best score: 0.746875 using {'clf__C': 1, 'clf__max_iter': 600, 'clf__solver': 'saga'}\n",
      "            train score 1.0\n",
      "            test  score 0.73125\n",
      "            log loss train 9.992007221626413e-16\n",
      "            log loss test 9.28243608568253\n",
      "            rmse_train 0.0\n",
      "            rmse_test 0.518411033833193\n",
      "    PCA ncomponents: 535\n",
      "        <class 'sklearn.linear_model._logistic.LogisticRegression'>\n",
      "          score: accuracy\n",
      "            Best score: 0.776758 using {'clf__C': 1, 'clf__max_iter': 600, 'clf__solver': 'saga'}\n",
      "            train score 1.0\n",
      "            test  score 0.76875\n",
      "            log loss train 9.992007221626413e-16\n",
      "            log loss test 7.987206983453686\n",
      "            rmse_train 0.0\n",
      "            rmse_test 0.48088460154178364\n",
      "    PCA ncomponents: -1\n",
      "        <class 'sklearn.linear_model._logistic.LogisticRegression'>\n",
      "          score: accuracy\n",
      "            Best score: 0.785352 using {'clf__C': 1, 'clf__max_iter': 600, 'clf__solver': 'saga'}\n",
      "            train score 1.0\n",
      "            test  score 0.7875\n",
      "            log loss train 9.992007221626413e-16\n",
      "            log loss test 7.339599928565171\n",
      "            rmse_train 0.0\n",
      "            rmse_test 0.4609772228646444\n"
     ]
    },
    {
     "name": "stderr",
     "output_type": "stream",
     "text": [
      "/Users/yaeerk/Documents/NAYA/python/python-env/lib/python3.6/site-packages/sklearn/linear_model/_sag.py:329: ConvergenceWarning: The max_iter was reached which means the coef_ did not converge\n",
      "  \"the coef_ did not converge\", ConvergenceWarning)\n"
     ]
    }
   ],
   "source": [
    "#LogisticRegression grid search and cross validation\n",
    "lr_results = result_dataframe()\n",
    "\n",
    "# Define params for classifier LR\n",
    "grid_params_lr = [ {'clf__C'            : [0.001, 1, 1.5],\n",
    "                    'clf__solver'       : ['liblinear', 'saga', 'lbfgs',],\n",
    "                    'clf__max_iter'     : [600],\n",
    "                     }]\n",
    "\n",
    "cls_params = [(LogisticRegression(), grid_params_lr),] \n",
    "\n",
    "for train_size in train_sizes:\n",
    "    \n",
    "    print(tab * 1 + f\"train size: {train_size}\")\n",
    "    for ncomponents in ncomponentss:\n",
    "        print(tab * 2 + f\"PCA ncomponents: {ncomponents}\")                  \n",
    "        X_train, X_test, y_train, y_test = pca_train_test_split(X_reduced, y_reduced, train_size, random_state, ncomponents)\n",
    "\n",
    "        # Run Grid search for each classifier\n",
    "        for classifier, grid_params in cls_params: \n",
    "            \n",
    "            classifier_type = type(classifier)\n",
    "            print(tab * 4 + f\"{classifier_type}\")\n",
    "            \n",
    "            pipeline = Pipeline(steps = [('clf', classifier)])        \n",
    "            cv = RepeatedStratifiedKFold(n_splits = n_splits, n_repeats = jobs, random_state = random_state)\n",
    "\n",
    "            # define grid search\n",
    "            for score in scores:\n",
    "                print(tab * 5 + f\"score: {score}\")\n",
    "\n",
    "                grid = GridSearchCV(pipeline, param_grid = grid_params, scoring = score, cv = cv, n_jobs = jobs)\n",
    "                grid = grid.fit(X_train, y_train)\n",
    "                y_test_pred, y_train_pred = grid.predict(X_test), grid.predict(X_train)\n",
    "                \n",
    "                score_train = grid.score(X_train, y_train)\n",
    "                score_test  = grid.score(X_test, y_test)                \n",
    "                log_loss_train, log_loss_test = log_loss(y_train, y_train_pred), log_loss(y_test, y_test_pred)                   \n",
    "                rmse_train, rmse_test = math.sqrt(mean_squared_error(y_train, y_train_pred)), math.sqrt(mean_squared_error(y_test, y_test_pred)) \n",
    "                    \n",
    "                results_add(lr_results, \"LR gscv\", grid.best_score_, score_train, score_test, rmse_test, rmse_train, log_loss_test, log_loss_train, ncomponents, train_size, random_state, grid.best_params_)                \n",
    "\n",
    "lr_results.to_csv(save_path + filename + \"LR-gscv.csv\")"
   ]
  },
  {
   "cell_type": "code",
   "execution_count": 9,
   "id": "2594d5b7",
   "metadata": {},
   "outputs": [
    {
     "name": "stdout",
     "output_type": "stream",
     "text": [
      "            train accuracy score 0.8585347222222223\n",
      "            test accuracy score 0.8586666666666667\n",
      "            rmse_train 0.37611870171234213\n",
      "            rmse_test 0.3759432581299116\n"
     ]
    },
    {
     "data": {
      "image/png": "[encoded data removed]",
      "text/plain": [
       "<Figure size 432x288 with 1 Axes>"
      ]
     },
     "metadata": {
      "needs_background": "light"
     },
     "output_type": "display_data"
    },
    {
     "data": {
      "image/png": "[encoded data removed]",
      "text/plain": [
       "<Figure size 432x288 with 1 Axes>"
      ]
     },
     "metadata": {
      "needs_background": "light"
     },
     "output_type": "display_data"
    }
   ],
   "source": [
    "#Accuracy:  0.822188 using {'clf__C': 0.001, 'clf__max_iter': 600, 'clf__solver': 'lbfgs'}\n",
    "test_model(\"LR\", 535, 0.8, random_state, LogisticRegression(C = 0.001, solver = 'lbfgs', max_iter = 600))"
   ]
  },
  {
   "cell_type": "code",
   "execution_count": 10,
   "id": "bfa76db4",
   "metadata": {},
   "outputs": [
    {
     "name": "stdout",
     "output_type": "stream",
     "text": [
      "  train size: 0.8\n",
      "     PCA ncomponents: 50\n",
      "        <class 'sklearn.tree._classes.DecisionTreeClassifier'>\n",
      "          score: accuracy\n",
      "            Best score: 0.741016 using {'clf__min_samples_leaf': 32}\n",
      "            train score 0.8046875\n",
      "            test  score 0.70625\n",
      "            log loss train 6.745934724374012\n",
      "            log loss test 10.145875510651665\n",
      "            rmse_train 0.4419417382415922\n",
      "            rmse_test 0.54198708471697\n",
      "     PCA ncomponents: 100\n",
      "        <class 'sklearn.tree._classes.DecisionTreeClassifier'>\n",
      "          score: accuracy\n",
      "            Best score: 0.731250 using {'clf__min_samples_leaf': 64}\n",
      "            train score 0.7921875\n",
      "            test  score 0.7\n",
      "            log loss train 7.177698164843044\n",
      "            log loss test 10.361772848023488\n",
      "            rmse_train 0.45586456322026175\n",
      "            rmse_test 0.5477225575051661\n",
      "     PCA ncomponents: 200\n",
      "        <class 'sklearn.tree._classes.DecisionTreeClassifier'>\n",
      "          score: accuracy\n",
      "            Best score: 0.725000 using {'clf__min_samples_leaf': 64}\n",
      "            train score 0.78125\n",
      "            test  score 0.6625\n",
      "            log loss train 7.555458535436472\n",
      "            log loss test 11.65701694270415\n",
      "            rmse_train 0.46770717334674267\n",
      "            rmse_test 0.5809475019311126\n",
      "     PCA ncomponents: 400\n",
      "        <class 'sklearn.tree._classes.DecisionTreeClassifier'>\n",
      "          score: accuracy\n",
      "            Best score: 0.728320 using {'clf__min_samples_leaf': 64}\n",
      "            train score 0.778125\n",
      "            test  score 0.65\n",
      "            log loss train 7.6634084534933695\n",
      "            log loss test 12.088766640092349\n",
      "            rmse_train 0.4710360920354193\n",
      "            rmse_test 0.5916079783099616\n",
      "     PCA ncomponents: 535\n",
      "        <class 'sklearn.tree._classes.DecisionTreeClassifier'>\n",
      "          score: accuracy\n",
      "            Best score: 0.731250 using {'clf__min_samples_leaf': 64}\n",
      "            train score 0.778125\n",
      "            test  score 0.65\n",
      "            log loss train 7.6634084534933695\n",
      "            log loss test 12.088766640092349\n",
      "            rmse_train 0.4710360920354193\n",
      "            rmse_test 0.5916079783099616\n",
      "     PCA ncomponents: -1\n",
      "        <class 'sklearn.tree._classes.DecisionTreeClassifier'>\n",
      "          score: accuracy\n",
      "            Best score: 0.821680 using {'clf__min_samples_leaf': 32}\n",
      "            train score 0.8390625\n",
      "            test  score 0.8375\n",
      "            log loss train 5.558618059072524\n",
      "            log loss test 5.6126061364963125\n",
      "            rmse_train 0.4011701633970303\n",
      "            rmse_test 0.4031128874149275\n"
     ]
    }
   ],
   "source": [
    "#DecisionTree grid search and cross validation\n",
    "dt_results = result_dataframe()\n",
    "\n",
    "# Define params for classifier \n",
    "grid_params_dt = [ {'clf__min_samples_leaf' : [2, 4, 8, 16, 32, 64],}]\n",
    "cls_params = [(DecisionTreeClassifier(), grid_params_dt),]\n",
    "\n",
    "for train_size in train_sizes:\n",
    "    print(tab * 1 + f\"train size: {train_size}\")\n",
    "    \n",
    "    for ncomponents in ncomponentss:\n",
    "        print(tab * 2 + f\" PCA ncomponents: {ncomponents}\")    \n",
    "        X_train, X_test, y_train, y_test = pca_train_test_split(X_reduced, y_reduced, train_size, random_state, ncomponents)\n",
    "\n",
    "        # Run Grid search for each classifier\n",
    "        for classifier, grid_params in cls_params: \n",
    "            \n",
    "            classifier_type = type(classifier)\n",
    "            print(tab * 4 + f\"{classifier_type}\")\n",
    "            pipeline = Pipeline(steps = [('clf', classifier)])        \n",
    "            cv = RepeatedStratifiedKFold(n_splits = n_splits, n_repeats = jobs, random_state = 1)\n",
    "\n",
    "            # define grid search\n",
    "            for score in scores:\n",
    "                print(tab * 5 + f\"score: {score}\")\n",
    "\n",
    "                grid = GridSearchCV(pipeline, param_grid = grid_params, scoring = score, cv = cv, n_jobs = jobs)\n",
    "                grid = grid.fit(X_train, y_train)\n",
    "                y_test_pred, y_train_pred = grid.predict(X_test), grid.predict(X_train)\n",
    "\n",
    "                score_train = grid.score(X_train, y_train)\n",
    "                score_test  = grid.score(X_test, y_test)                \n",
    "                log_loss_train, log_loss_test = log_loss(y_train, y_train_pred), log_loss(y_test, y_test_pred)   \n",
    "                rmse_train, rmse_test = math.sqrt(mean_squared_error(y_train, y_train_pred)), math.sqrt(mean_squared_error(y_test, y_test_pred)) \n",
    "                    \n",
    "                results_add(dt_results, \"DT gscv\", grid.best_score_, score_train, score_test, rmse_test, rmse_train, log_loss_test, log_loss_train, ncomponents, train_size, random_state, grid.best_params_)                \n",
    "\n",
    "dt_results.to_csv(save_path + filename + \"DT-gscv.csv\")"
   ]
  },
  {
   "cell_type": "code",
   "execution_count": 11,
   "id": "e27b2db5",
   "metadata": {},
   "outputs": [
    {
     "name": "stdout",
     "output_type": "stream",
     "text": [
      "            train accuracy score 0.9450347222222222\n",
      "            test accuracy score 0.9363611111111111\n",
      "            rmse_train 0.23444674827725331\n",
      "            rmse_test 0.25226749471322873\n"
     ]
    },
    {
     "data": {
      "image/png": "[encoded data removed]",
      "text/plain": [
       "<Figure size 432x288 with 1 Axes>"
      ]
     },
     "metadata": {
      "needs_background": "light"
     },
     "output_type": "display_data"
    },
    {
     "data": {
      "image/png": "[encoded data removed]",
      "text/plain": [
       "<Figure size 432x288 with 1 Axes>"
      ]
     },
     "metadata": {
      "needs_background": "light"
     },
     "output_type": "display_data"
    }
   ],
   "source": [
    "#Accuracy Best score: 0.868320 using {'clf__min_samples_leaf': 32}\n",
    "test_model(\"DT\", -1, 0.8, random_state, DecisionTreeClassifier(min_samples_leaf = 32))"
   ]
  },
  {
   "cell_type": "code",
   "execution_count": 12,
   "id": "d1cb9899",
   "metadata": {},
   "outputs": [
    {
     "name": "stdout",
     "output_type": "stream",
     "text": [
      "  train size: 0.8\n",
      "    PCA ncomponents: 50\n",
      "        <class 'sklearn.svm._classes.SVC'>\n",
      "          score: accuracy\n",
      "            Best score: 0.776563 using {'clf__C': 1.5, 'clf__kernel': 'rbf', 'clf__max_iter': 2000}\n",
      "            train score 0.8203125\n",
      "            test  score 0.81875\n",
      "            log loss train 6.206228862073993\n",
      "            log loss test 6.260218188868764\n",
      "            rmse_train 0.42389562394532926\n",
      "            rmse_test 0.42573465914816\n",
      "    PCA ncomponents: 100\n",
      "        <class 'sklearn.svm._classes.SVC'>\n",
      "          score: accuracy\n",
      "            Best score: 0.782813 using {'clf__C': 1.5, 'clf__kernel': 'sigmoid', 'clf__max_iter': 2000}\n",
      "            train score 0.803125\n",
      "            test  score 0.75625\n",
      "            log loss train 6.799895315636137\n",
      "            log loss test 8.418946685874008\n",
      "            rmse_train 0.4437059837324712\n",
      "            rmse_test 0.49371044145328746\n",
      "    PCA ncomponents: 200\n",
      "        <class 'sklearn.svm._classes.SVC'>\n",
      "          score: accuracy\n",
      "            Best score: 0.783594 using {'clf__C': 1.5, 'clf__kernel': 'rbf', 'clf__max_iter': 2000}\n",
      "            train score 0.8953125\n",
      "            test  score 0.8125\n",
      "            log loss train 3.61578814881009\n",
      "            log loss test 6.476085541336957\n",
      "            rmse_train 0.3235544776386196\n",
      "            rmse_test 0.4330127018922193\n",
      "    PCA ncomponents: 400\n",
      "        <class 'sklearn.svm._classes.SVC'>\n",
      "          score: accuracy\n",
      "            Best score: 0.784766 using {'clf__C': 1.5, 'clf__kernel': 'rbf', 'clf__max_iter': 2000}\n",
      "            train score 0.9375\n",
      "            test  score 0.8125\n",
      "            log loss train 2.1586785221658573\n",
      "            log loss test 6.476100533788772\n",
      "            rmse_train 0.25\n",
      "            rmse_test 0.4330127018922193\n",
      "    PCA ncomponents: 535\n",
      "        <class 'sklearn.svm._classes.SVC'>\n",
      "          score: accuracy\n",
      "            Best score: 0.786523 using {'clf__C': 1.5, 'clf__kernel': 'sigmoid', 'clf__max_iter': 2000}\n",
      "            train score 0.840625\n",
      "            test  score 0.8125\n",
      "            log loss train 5.504666213407293\n",
      "            log loss test 6.476095536304834\n",
      "            rmse_train 0.3992179855667828\n",
      "            rmse_test 0.4330127018922193\n",
      "    PCA ncomponents: -1\n",
      "        <class 'sklearn.svm._classes.SVC'>\n",
      "          score: accuracy\n"
     ]
    },
    {
     "name": "stderr",
     "output_type": "stream",
     "text": [
      "/Users/yaeerk/Documents/NAYA/python/python-env/lib/python3.6/site-packages/sklearn/svm/_base.py:258: ConvergenceWarning: Solver terminated early (max_iter=2000).  Consider pre-processing your data with StandardScaler or MinMaxScaler.\n",
      "  % self.max_iter, ConvergenceWarning)\n"
     ]
    },
    {
     "name": "stdout",
     "output_type": "stream",
     "text": [
      "            Best score: 0.773828 using {'clf__C': 1, 'clf__kernel': 'linear', 'clf__max_iter': 2000}\n",
      "            train score 1.0\n",
      "            test  score 0.7375\n",
      "            log loss train 9.992007221626413e-16\n",
      "            log loss test 9.066568733214337\n",
      "            rmse_train 0.0\n",
      "            rmse_test 0.51234753829798\n"
     ]
    }
   ],
   "source": [
    "#SVC grid search and cross validation\n",
    "svc_results = result_dataframe()\n",
    "\n",
    "# Define params for  classifier SVC                   \n",
    "grid_params_svc = [ {'clf__kernel'       : ['linear', 'rbf','sigmoid'],\n",
    "                     'clf__C'            : [0.001, 1, 1.5],\n",
    "                     'clf__max_iter'     : [2000],\n",
    "                     }]\n",
    "\n",
    "cls_params = [(SVC(), grid_params_svc),] \n",
    "\n",
    "for train_size in train_sizes:\n",
    "    print(tab * 1 + f\"train size: {train_size}\")\n",
    "\n",
    "    for ncomponents in ncomponentss:\n",
    "        print(tab * 2 + f\"PCA ncomponents: {ncomponents}\")\n",
    "        X_train, X_test, y_train, y_test = pca_train_test_split(X_reduced, y_reduced, train_size, random_state, ncomponents)\n",
    "                                           \n",
    "        # Run Grid search for each classifier\n",
    "        for classifier, grid_params in cls_params: \n",
    "            \n",
    "            classifier_type = type(classifier)\n",
    "            print(tab * 4 + f\"{classifier_type}\")\n",
    "            pipeline = Pipeline(steps = [('clf', classifier)])        \n",
    "            cv = RepeatedStratifiedKFold(n_splits = n_splits, n_repeats = jobs, random_state = 1)\n",
    "\n",
    "            # define grid search\n",
    "            for score in scores:\n",
    "                print(tab * 5 + f\"score: {score}\")\n",
    "\n",
    "                grid = GridSearchCV(pipeline, param_grid = grid_params, scoring = score, cv = cv, n_jobs = jobs)\n",
    "                grid = grid.fit(X_train, y_train)\n",
    "                y_test_pred, y_train_pred = grid.predict(X_test), grid.predict(X_train)\n",
    "\n",
    "                score_train = grid.score(X_train, y_train)\n",
    "                score_test  = grid.score(X_test, y_test)\n",
    "                log_loss_train, log_loss_test = log_loss(y_train, y_train_pred), log_loss(y_test, y_test_pred)   \n",
    "                rmse_train, rmse_test = math.sqrt(mean_squared_error(y_train, y_train_pred)), math.sqrt(mean_squared_error(y_test, y_test_pred)) \n",
    "                    \n",
    "                results_add(svc_results, \"SVC gscv\", grid.best_score_, score_train, score_test, rmse_test, rmse_train, log_loss_test, log_loss_train, ncomponents, train_size, random_state, grid.best_params_)                \n",
    "\n",
    "svc_results.to_csv(save_path + filename + \"LR-gscv.csv\")"
   ]
  },
  {
   "cell_type": "code",
   "execution_count": 13,
   "id": "d48116a9",
   "metadata": {},
   "outputs": [
    {
     "name": "stderr",
     "output_type": "stream",
     "text": [
      "/Users/yaeerk/Documents/NAYA/python/python-env/lib/python3.6/site-packages/sklearn/svm/_base.py:258: ConvergenceWarning: Solver terminated early (max_iter=2000).  Consider pre-processing your data with StandardScaler or MinMaxScaler.\n",
      "  % self.max_iter, ConvergenceWarning)\n"
     ]
    },
    {
     "name": "stdout",
     "output_type": "stream",
     "text": [
      "            train accuracy score 0.5035972222222223\n",
      "            test accuracy score 0.5011944444444445\n",
      "            rmse_train 0.7045585694445692\n",
      "            rmse_test 0.7062616764029856\n"
     ]
    },
    {
     "data": {
      "image/png": "[encoded data removed]",
      "text/plain": [
       "<Figure size 432x288 with 1 Axes>"
      ]
     },
     "metadata": {
      "needs_background": "light"
     },
     "output_type": "display_data"
    },
    {
     "data": {
      "image/png": "[encoded data removed]",
      "text/plain": [
       "<Figure size 432x288 with 1 Axes>"
      ]
     },
     "metadata": {
      "needs_background": "light"
     },
     "output_type": "display_data"
    }
   ],
   "source": [
    "#Accuracy Best score: 0.842227 using {'clf__C': 1.5, 'clf__kernel': 'rbf', 'clf__max_iter': 2000}\n",
    "test_model(\"SVC\", 400, 0.8, random_state, SVC(C = 1.5, kernel = \"rbf\", max_iter = 2000))"
   ]
  }
 ],
 "metadata": {
  "kernelspec": {
   "display_name": "Python 3 (ipykernel)",
   "language": "python",
   "name": "python3"
  },
  "language_info": {
   "codemirror_mode": {
    "name": "ipython",
    "version": 3
   },
   "file_extension": ".py",
   "mimetype": "text/x-python",
   "name": "python",
   "nbconvert_exporter": "python",
   "pygments_lexer": "ipython3",
   "version": "3.10.6"
  }
 },
 "nbformat": 4,
 "nbformat_minor": 5
}
